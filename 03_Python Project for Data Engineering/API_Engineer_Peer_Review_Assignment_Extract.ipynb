{
 "cells": [
  {
   "cell_type": "markdown",
   "metadata": {},
   "source": [
    "<p style=\"text-align:center\">\n",
    "    <a href=\"https://skills.network/?utm_medium=Exinfluencer&utm_source=Exinfluencer&utm_content=000026UJ&utm_term=10006555&utm_id=NA-SkillsNetwork-Channel-SkillsNetworkCoursesIBMDeveloperSkillsNetworkPY0221ENSkillsNetwork23455645-2022-01-01\" target=\"_blank\">\n",
    "    <img src=\"https://cf-courses-data.s3.us.cloud-object-storage.appdomain.cloud/assets/logos/SN_web_lightmode.png\" width=\"200\" alt=\"Skills Network Logo\"  />\n",
    "    </a>\n",
    "</p>\n"
   ]
  },
  {
   "cell_type": "markdown",
   "metadata": {},
   "source": [
    "# Peer Review Assignment - Data Engineer - Extract API Data\n"
   ]
  },
  {
   "cell_type": "markdown",
   "metadata": {},
   "source": [
    "Estimated time needed: **20** minutes\n"
   ]
  },
  {
   "cell_type": "markdown",
   "metadata": {},
   "source": [
    "## Objectives\n",
    "\n",
    "In this part you will:\n",
    "\n",
    "*   Collect exchange rate data using an API\n",
    "*   Store the data as a CSV\n"
   ]
  },
  {
   "cell_type": "markdown",
   "metadata": {},
   "source": [
    "For this lab, we are going to be using Python and several Python libraries. Some of these libraries might be installed in your lab environment or in SN Labs. Others may need to be installed by you. The cells below will install these libraries when executed.\n"
   ]
  },
  {
   "cell_type": "code",
   "execution_count": 1,
   "metadata": {},
   "outputs": [],
   "source": [
    "#!mamba install pandas==1.3.3 -y\n",
    "#!mamba install requests==2.26.0 -y"
   ]
  },
  {
   "cell_type": "markdown",
   "metadata": {},
   "source": [
    "## Imports\n",
    "\n",
    "Import any additional libraries you may need here.\n"
   ]
  },
  {
   "cell_type": "code",
   "execution_count": 2,
   "metadata": {},
   "outputs": [],
   "source": [
    "import requests\n",
    "import pandas as pd\n",
    "import json"
   ]
  },
  {
   "cell_type": "markdown",
   "metadata": {},
   "source": [
    "## Extract Data Using an API\n"
   ]
  },
  {
   "cell_type": "markdown",
   "metadata": {},
   "source": [
    "Using ExchangeRate-API we will extract currency exchange rate data. Use the below steps to get the access key and to get the data.\n",
    "\n",
    "1.  Open the url : [https://exchangeratesapi.io/](https://exchangeratesapi.io/?utm_medium=Exinfluencer&utm_source=Exinfluencer&utm_content=000026UJ&utm_term=10006555&utm_id=NA-SkillsNetwork-Channel-SkillsNetworkCoursesIBMDeveloperSkillsNetworkPY0221ENSkillsNetwork23455645-2022-01-01) and click on **Get Free API Key**.\n",
    "2.  Subscribe for Free plan and Sign-in with the Google Account.\n",
    "3.  Once the account is created you will be redirected to [https://apilayer.com](https://apilayer.com/?utm_medium=Exinfluencer&utm_source=Exinfluencer&utm_content=000026UJ&utm_term=10006555&utm_id=NA-SkillsNetwork-Channel-SkillsNetworkCoursesIBMDeveloperSkillsNetworkPY0221ENSkillsNetwork23455645-2022-01-01) website.\n",
    "4.  Now, click on the **user icon** and click **Account** as shown below:\n",
    "\n",
    "<img src=\"https://cf-courses-data.s3.us.cloud-object-storage.appdomain.cloud/IBMDeveloperSkillsNetwork-PY0221EN-SkillsNetwork/labs/module%206/Final%20Assignment/Images/account.png\"/>\n",
    "\n",
    "3.  Scroll down and you will get the API Key section. Copy the API key and use in the url in Question 1.\n"
   ]
  },
  {
   "cell_type": "markdown",
   "metadata": {},
   "source": [
    "### Call the API\n",
    "\n",
    "<b> Question 1</b> Using the `requests` library call the endpoint given above and save the text, remember the first few characters of the output:\n"
   ]
  },
  {
   "cell_type": "code",
   "execution_count": 3,
   "metadata": {},
   "outputs": [
    {
     "data": {
      "text/plain": [
       "{'success': True,\n",
       " 'timestamp': 1685694784,\n",
       " 'base': 'EUR',\n",
       " 'date': '2023-06-02',\n",
       " 'rates': {'AED': 3.956028,\n",
       "  'AFN': 93.454497,\n",
       "  'ALL': 109.456237,\n",
       "  'AMD': 413.737493,\n",
       "  'ANG': 1.93154,\n",
       "  'AOA': 634.952643,\n",
       "  'ARS': 258.697461,\n",
       "  'AUD': 1.627222,\n",
       "  'AWG': 1.941407,\n",
       "  'AZN': 1.832992,\n",
       "  'BAM': 1.957378,\n",
       "  'BBD': 2.163834,\n",
       "  'BDT': 114.972718,\n",
       "  'BGN': 1.956702,\n",
       "  'BHD': 0.406065,\n",
       "  'BIF': 3024.510983,\n",
       "  'BMD': 1.077064,\n",
       "  'BND': 1.448455,\n",
       "  'BOB': 7.40611,\n",
       "  'BRL': 5.401152,\n",
       "  'BSD': 1.071784,\n",
       "  'BTC': 3.9722568e-05,\n",
       "  'BTN': 88.349068,\n",
       "  'BWP': 14.782784,\n",
       "  'BYN': 2.705232,\n",
       "  'BYR': 21110.446148,\n",
       "  'BZD': 2.160232,\n",
       "  'CAD': 1.445193,\n",
       "  'CDF': 2511.712744,\n",
       "  'CHF': 0.973719,\n",
       "  'CLF': 0.031411,\n",
       "  'CLP': 866.712009,\n",
       "  'CNY': 7.619362,\n",
       "  'COP': 4729.386175,\n",
       "  'CRC': 578.171624,\n",
       "  'CUC': 1.077064,\n",
       "  'CUP': 28.542185,\n",
       "  'CVE': 110.361048,\n",
       "  'CZK': 23.686027,\n",
       "  'DJF': 190.814135,\n",
       "  'DKK': 7.449122,\n",
       "  'DOP': 58.567775,\n",
       "  'DZD': 146.846523,\n",
       "  'EGP': 33.279542,\n",
       "  'ERN': 16.155954,\n",
       "  'ETB': 58.529944,\n",
       "  'EUR': 1,\n",
       "  'FJD': 2.408524,\n",
       "  'FKP': 0.859206,\n",
       "  'GBP': 0.859465,\n",
       "  'GEL': 2.805764,\n",
       "  'GGP': 0.859206,\n",
       "  'GHS': 12.083969,\n",
       "  'GIP': 0.859206,\n",
       "  'GMD': 64.160999,\n",
       "  'GNF': 9212.172403,\n",
       "  'GTQ': 8.391845,\n",
       "  'GYD': 226.677009,\n",
       "  'HKD': 8.438335,\n",
       "  'HNL': 26.348493,\n",
       "  'HRK': 7.479496,\n",
       "  'HTG': 149.51057,\n",
       "  'HUF': 370.983443,\n",
       "  'IDR': 15980.661588,\n",
       "  'ILS': 4.032876,\n",
       "  'IMP': 0.859206,\n",
       "  'INR': 88.681649,\n",
       "  'IQD': 1403.958268,\n",
       "  'IRR': 45559.789511,\n",
       "  'ISK': 149.916716,\n",
       "  'JEP': 0.859206,\n",
       "  'JMD': 165.678994,\n",
       "  'JOD': 0.764606,\n",
       "  'JPY': 149.627287,\n",
       "  'KES': 149.392405,\n",
       "  'KGS': 94.336549,\n",
       "  'KHR': 4416.561659,\n",
       "  'KMF': 496.903642,\n",
       "  'KPW': 969.315719,\n",
       "  'KRW': 1406.294962,\n",
       "  'KWD': 0.331294,\n",
       "  'KYD': 0.893137,\n",
       "  'KZT': 480.95679,\n",
       "  'LAK': 19258.888611,\n",
       "  'LBP': 16087.071857,\n",
       "  'LKR': 316.18085,\n",
       "  'LRD': 182.158351,\n",
       "  'LSL': 21.228676,\n",
       "  'LTL': 3.180289,\n",
       "  'LVL': 0.651505,\n",
       "  'LYD': 5.17691,\n",
       "  'MAD': 10.903796,\n",
       "  'MDL': 19.025696,\n",
       "  'MGA': 4712.756764,\n",
       "  'MKD': 61.669732,\n",
       "  'MMK': 2250.656795,\n",
       "  'MNT': 3743.320261,\n",
       "  'MOP': 8.646333,\n",
       "  'MRO': 384.511512,\n",
       "  'MUR': 49.551097,\n",
       "  'MVR': 16.479643,\n",
       "  'MWK': 1100.076924,\n",
       "  'MXN': 18.910224,\n",
       "  'MYR': 4.940507,\n",
       "  'MZN': 68.124114,\n",
       "  'NAD': 21.239864,\n",
       "  'NGN': 496.795296,\n",
       "  'NIO': 39.201613,\n",
       "  'NOK': 11.845481,\n",
       "  'NPR': 141.354368,\n",
       "  'NZD': 1.765167,\n",
       "  'OMR': 0.414707,\n",
       "  'PAB': 1.071774,\n",
       "  'PEN': 3.937112,\n",
       "  'PGK': 3.852071,\n",
       "  'PHP': 60.199769,\n",
       "  'PKR': 305.767181,\n",
       "  'PLN': 4.51378,\n",
       "  'PYG': 7794.888006,\n",
       "  'QAR': 3.921564,\n",
       "  'RON': 4.964291,\n",
       "  'RSD': 117.254492,\n",
       "  'RUB': 87.129051,\n",
       "  'RWF': 1209.875683,\n",
       "  'SAR': 4.040025,\n",
       "  'SBD': 8.976427,\n",
       "  'SCR': 14.496806,\n",
       "  'SDG': 647.315469,\n",
       "  'SEK': 11.579478,\n",
       "  'SGD': 1.448817,\n",
       "  'SHP': 1.310517,\n",
       "  'SLE': 24.331618,\n",
       "  'SLL': 21272.005965,\n",
       "  'SOS': 612.309479,\n",
       "  'SRD': 40.743135,\n",
       "  'STD': 22293.041503,\n",
       "  'SVC': 9.377737,\n",
       "  'SYP': 2706.068518,\n",
       "  'SZL': 21.198095,\n",
       "  'THB': 37.255284,\n",
       "  'TJS': 11.708742,\n",
       "  'TMT': 3.769723,\n",
       "  'TND': 3.328935,\n",
       "  'TOP': 2.555171,\n",
       "  'TRY': 22.488705,\n",
       "  'TTD': 7.253985,\n",
       "  'TWD': 33.009304,\n",
       "  'TZS': 2549.409744,\n",
       "  'UAH': 39.582653,\n",
       "  'UGX': 4020.316767,\n",
       "  'USD': 1.077064,\n",
       "  'UYU': 41.533494,\n",
       "  'UZS': 12227.860944,\n",
       "  'VEF': 2820118.542893,\n",
       "  'VES': 28.144961,\n",
       "  'VND': 25291.606962,\n",
       "  'VUV': 130.397023,\n",
       "  'WST': 2.94909,\n",
       "  'XAF': 656.486412,\n",
       "  'XAG': 0.045041,\n",
       "  'XAU': 0.000545,\n",
       "  'XCD': 2.910818,\n",
       "  'XDR': 0.804842,\n",
       "  'XOF': 656.452863,\n",
       "  'XPF': 120.840107,\n",
       "  'YER': 269.643061,\n",
       "  'ZAR': 21.061117,\n",
       "  'ZMK': 9694.866782,\n",
       "  'ZMW': 20.924806,\n",
       "  'ZWL': 346.814033}}"
      ]
     },
     "execution_count": 3,
     "metadata": {},
     "output_type": "execute_result"
    }
   ],
   "source": [
    "# Write your code here\n",
    "url = \"https://api.apilayer.com/exchangerates_data/latest?base=EUR&apikey=rLNgKU9OQ04FYZDZgQyL8WSqbRamAOyS\" #Make sure to change ******* to your API key.\n",
    "data = requests.get(url)\n",
    "results = json.loads(data.text)\n",
    "results"
   ]
  },
  {
   "cell_type": "markdown",
   "metadata": {},
   "source": [
    "### Save as DataFrame\n",
    "\n",
    "<b> Question 2</b>  Using the data gathered turn it into a `pandas` dataframe. The dataframe should have the Currency as the index and `Rate` as their columns. Make sure to drop unnecessary columns.\n"
   ]
  },
  {
   "cell_type": "code",
   "execution_count": 4,
   "metadata": {},
   "outputs": [
    {
     "data": {
      "text/html": [
       "<div>\n",
       "<style scoped>\n",
       "    .dataframe tbody tr th:only-of-type {\n",
       "        vertical-align: middle;\n",
       "    }\n",
       "\n",
       "    .dataframe tbody tr th {\n",
       "        vertical-align: top;\n",
       "    }\n",
       "\n",
       "    .dataframe thead th {\n",
       "        text-align: right;\n",
       "    }\n",
       "</style>\n",
       "<table border=\"1\" class=\"dataframe\">\n",
       "  <thead>\n",
       "    <tr style=\"text-align: right;\">\n",
       "      <th></th>\n",
       "      <th>success</th>\n",
       "      <th>timestamp</th>\n",
       "      <th>base</th>\n",
       "      <th>date</th>\n",
       "      <th>rates</th>\n",
       "    </tr>\n",
       "  </thead>\n",
       "  <tbody>\n",
       "    <tr>\n",
       "      <th>AED</th>\n",
       "      <td>True</td>\n",
       "      <td>1685694784</td>\n",
       "      <td>EUR</td>\n",
       "      <td>2023-06-02</td>\n",
       "      <td>3.956028</td>\n",
       "    </tr>\n",
       "    <tr>\n",
       "      <th>AFN</th>\n",
       "      <td>True</td>\n",
       "      <td>1685694784</td>\n",
       "      <td>EUR</td>\n",
       "      <td>2023-06-02</td>\n",
       "      <td>93.454497</td>\n",
       "    </tr>\n",
       "    <tr>\n",
       "      <th>ALL</th>\n",
       "      <td>True</td>\n",
       "      <td>1685694784</td>\n",
       "      <td>EUR</td>\n",
       "      <td>2023-06-02</td>\n",
       "      <td>109.456237</td>\n",
       "    </tr>\n",
       "    <tr>\n",
       "      <th>AMD</th>\n",
       "      <td>True</td>\n",
       "      <td>1685694784</td>\n",
       "      <td>EUR</td>\n",
       "      <td>2023-06-02</td>\n",
       "      <td>413.737493</td>\n",
       "    </tr>\n",
       "    <tr>\n",
       "      <th>ANG</th>\n",
       "      <td>True</td>\n",
       "      <td>1685694784</td>\n",
       "      <td>EUR</td>\n",
       "      <td>2023-06-02</td>\n",
       "      <td>1.931540</td>\n",
       "    </tr>\n",
       "    <tr>\n",
       "      <th>...</th>\n",
       "      <td>...</td>\n",
       "      <td>...</td>\n",
       "      <td>...</td>\n",
       "      <td>...</td>\n",
       "      <td>...</td>\n",
       "    </tr>\n",
       "    <tr>\n",
       "      <th>YER</th>\n",
       "      <td>True</td>\n",
       "      <td>1685694784</td>\n",
       "      <td>EUR</td>\n",
       "      <td>2023-06-02</td>\n",
       "      <td>269.643061</td>\n",
       "    </tr>\n",
       "    <tr>\n",
       "      <th>ZAR</th>\n",
       "      <td>True</td>\n",
       "      <td>1685694784</td>\n",
       "      <td>EUR</td>\n",
       "      <td>2023-06-02</td>\n",
       "      <td>21.061117</td>\n",
       "    </tr>\n",
       "    <tr>\n",
       "      <th>ZMK</th>\n",
       "      <td>True</td>\n",
       "      <td>1685694784</td>\n",
       "      <td>EUR</td>\n",
       "      <td>2023-06-02</td>\n",
       "      <td>9694.866782</td>\n",
       "    </tr>\n",
       "    <tr>\n",
       "      <th>ZMW</th>\n",
       "      <td>True</td>\n",
       "      <td>1685694784</td>\n",
       "      <td>EUR</td>\n",
       "      <td>2023-06-02</td>\n",
       "      <td>20.924806</td>\n",
       "    </tr>\n",
       "    <tr>\n",
       "      <th>ZWL</th>\n",
       "      <td>True</td>\n",
       "      <td>1685694784</td>\n",
       "      <td>EUR</td>\n",
       "      <td>2023-06-02</td>\n",
       "      <td>346.814033</td>\n",
       "    </tr>\n",
       "  </tbody>\n",
       "</table>\n",
       "<p>170 rows × 5 columns</p>\n",
       "</div>"
      ],
      "text/plain": [
       "     success   timestamp base        date        rates\n",
       "AED     True  1685694784  EUR  2023-06-02     3.956028\n",
       "AFN     True  1685694784  EUR  2023-06-02    93.454497\n",
       "ALL     True  1685694784  EUR  2023-06-02   109.456237\n",
       "AMD     True  1685694784  EUR  2023-06-02   413.737493\n",
       "ANG     True  1685694784  EUR  2023-06-02     1.931540\n",
       "..       ...         ...  ...         ...          ...\n",
       "YER     True  1685694784  EUR  2023-06-02   269.643061\n",
       "ZAR     True  1685694784  EUR  2023-06-02    21.061117\n",
       "ZMK     True  1685694784  EUR  2023-06-02  9694.866782\n",
       "ZMW     True  1685694784  EUR  2023-06-02    20.924806\n",
       "ZWL     True  1685694784  EUR  2023-06-02   346.814033\n",
       "\n",
       "[170 rows x 5 columns]"
      ]
     },
     "execution_count": 4,
     "metadata": {},
     "output_type": "execute_result"
    }
   ],
   "source": [
    "# Turn the data into a dataframe\n",
    "dataframe = pd.DataFrame(results)\n",
    "dataframe"
   ]
  },
  {
   "cell_type": "code",
   "execution_count": 5,
   "metadata": {},
   "outputs": [
    {
     "data": {
      "text/html": [
       "<div>\n",
       "<style scoped>\n",
       "    .dataframe tbody tr th:only-of-type {\n",
       "        vertical-align: middle;\n",
       "    }\n",
       "\n",
       "    .dataframe tbody tr th {\n",
       "        vertical-align: top;\n",
       "    }\n",
       "\n",
       "    .dataframe thead th {\n",
       "        text-align: right;\n",
       "    }\n",
       "</style>\n",
       "<table border=\"1\" class=\"dataframe\">\n",
       "  <thead>\n",
       "    <tr style=\"text-align: right;\">\n",
       "      <th></th>\n",
       "      <th>rates</th>\n",
       "    </tr>\n",
       "  </thead>\n",
       "  <tbody>\n",
       "    <tr>\n",
       "      <th>AED</th>\n",
       "      <td>3.956028</td>\n",
       "    </tr>\n",
       "    <tr>\n",
       "      <th>AFN</th>\n",
       "      <td>93.454497</td>\n",
       "    </tr>\n",
       "    <tr>\n",
       "      <th>ALL</th>\n",
       "      <td>109.456237</td>\n",
       "    </tr>\n",
       "    <tr>\n",
       "      <th>AMD</th>\n",
       "      <td>413.737493</td>\n",
       "    </tr>\n",
       "    <tr>\n",
       "      <th>ANG</th>\n",
       "      <td>1.931540</td>\n",
       "    </tr>\n",
       "    <tr>\n",
       "      <th>...</th>\n",
       "      <td>...</td>\n",
       "    </tr>\n",
       "    <tr>\n",
       "      <th>YER</th>\n",
       "      <td>269.643061</td>\n",
       "    </tr>\n",
       "    <tr>\n",
       "      <th>ZAR</th>\n",
       "      <td>21.061117</td>\n",
       "    </tr>\n",
       "    <tr>\n",
       "      <th>ZMK</th>\n",
       "      <td>9694.866782</td>\n",
       "    </tr>\n",
       "    <tr>\n",
       "      <th>ZMW</th>\n",
       "      <td>20.924806</td>\n",
       "    </tr>\n",
       "    <tr>\n",
       "      <th>ZWL</th>\n",
       "      <td>346.814033</td>\n",
       "    </tr>\n",
       "  </tbody>\n",
       "</table>\n",
       "<p>170 rows × 1 columns</p>\n",
       "</div>"
      ],
      "text/plain": [
       "           rates\n",
       "AED     3.956028\n",
       "AFN    93.454497\n",
       "ALL   109.456237\n",
       "AMD   413.737493\n",
       "ANG     1.931540\n",
       "..           ...\n",
       "YER   269.643061\n",
       "ZAR    21.061117\n",
       "ZMK  9694.866782\n",
       "ZMW    20.924806\n",
       "ZWL   346.814033\n",
       "\n",
       "[170 rows x 1 columns]"
      ]
     },
     "execution_count": 5,
     "metadata": {},
     "output_type": "execute_result"
    }
   ],
   "source": [
    "# Drop unnescessary columns\n",
    "dataframe.drop(columns=[\"success\", \"timestamp\", \"base\", \"date\"], inplace=True)\n",
    "dataframe"
   ]
  },
  {
   "cell_type": "markdown",
   "metadata": {},
   "source": [
    "### Load the Data\n",
    "\n",
    "Using the dataframe save it as a CSV names `exchange_rates_1.csv`.\n"
   ]
  },
  {
   "cell_type": "code",
   "execution_count": 6,
   "metadata": {},
   "outputs": [],
   "source": [
    "# Save the Dataframe\n",
    "dataframe.to_csv(\"exchange_rates_1.csv\")"
   ]
  },
  {
   "cell_type": "markdown",
   "metadata": {},
   "source": [
    "Your CSV should be in this format with more currencies\n",
    "\n",
    "|     | Rates      |\n",
    "| --- | ---------- |\n",
    "| AED | 4.398618   |\n",
    "| AFN | 92.917693  |\n",
    "| ALL | 123.099093 |\n",
    "| AMD | 621.935674 |\n",
    "| ANG | 2.149648   |\n"
   ]
  },
  {
   "cell_type": "markdown",
   "metadata": {},
   "source": [
    "## Authors\n"
   ]
  },
  {
   "cell_type": "markdown",
   "metadata": {},
   "source": [
    "Ramesh Sannareddy, Joseph Santarcangelo and Azim Hirjani\n"
   ]
  },
  {
   "cell_type": "markdown",
   "metadata": {},
   "source": [
    "### Other Contributors\n"
   ]
  },
  {
   "cell_type": "markdown",
   "metadata": {},
   "source": [
    "Rav Ahuja\n"
   ]
  },
  {
   "cell_type": "markdown",
   "metadata": {},
   "source": [
    "## Change Log\n"
   ]
  },
  {
   "cell_type": "markdown",
   "metadata": {},
   "source": [
    "| Date (YYYY-MM-DD) | Version | Changed By        | Change Description                              |\n",
    "| ----------------- | ------- | ----------------- | ----------------------------------------------- |\n",
    "| 2022-05-06        | 0.3     | Malika            | Updated instructions to get the API and the url |\n",
    "| 2021-04-15        | 0.2     | Malika            | Updated the lab from USD to EUR                 |\n",
    "| 2020-11-25        | 0.1     | Ramesh Sannareddy | Created initial version of the lab              |\n"
   ]
  },
  {
   "cell_type": "markdown",
   "metadata": {},
   "source": [
    "Copyright © 2020 IBM Corporation. This notebook and its source code are released under the terms of the [MIT License](https://cognitiveclass.ai/mit-license?utm_medium=Exinfluencer&utm_source=Exinfluencer&utm_content=000026UJ&utm_term=10006555&utm_id=NA-SkillsNetwork-Channel-SkillsNetworkCoursesIBMDeveloperSkillsNetworkPY0221ENSkillsNetwork23455645-2022-01-01&cm_mmc=Email_Newsletter-\\_-Developer_Ed%2BTech-\\_-WW_WW-\\_-SkillsNetwork-Courses-IBM-DA0321EN-SkillsNetwork-21426264&cm_mmca1=000026UJ&cm_mmca2=10006555&cm_mmca3=M12345678&cvosrc=email.Newsletter.M12345678&cvo_campaign=000026UJ).\n"
   ]
  }
 ],
 "metadata": {
  "kernelspec": {
   "display_name": "Python 3 (ipykernel)",
   "language": "python",
   "name": "python3"
  },
  "language_info": {
   "codemirror_mode": {
    "name": "ipython",
    "version": 3
   },
   "file_extension": ".py",
   "mimetype": "text/x-python",
   "name": "python",
   "nbconvert_exporter": "python",
   "pygments_lexer": "ipython3",
   "version": "3.10.9"
  }
 },
 "nbformat": 4,
 "nbformat_minor": 4
}
